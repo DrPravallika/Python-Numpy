{
  "nbformat": 4,
  "nbformat_minor": 0,
  "metadata": {
    "colab": {
      "provenance": [],
      "authorship_tag": "ABX9TyOtz6BMP8UuLaWoooS/SOB5",
      "include_colab_link": true
    },
    "kernelspec": {
      "name": "python3",
      "display_name": "Python 3"
    },
    "language_info": {
      "name": "python"
    }
  },
  "cells": [
    {
      "cell_type": "markdown",
      "metadata": {
        "id": "view-in-github",
        "colab_type": "text"
      },
      "source": [
        "<a href=\"https://colab.research.google.com/github/DrPravallika/Python-Numpy/blob/main/Numpy.ipynb\" target=\"_parent\"><img src=\"https://colab.research.google.com/assets/colab-badge.svg\" alt=\"Open In Colab\"/></a>"
      ]
    },
    {
      "cell_type": "code",
      "execution_count": 2,
      "metadata": {
        "colab": {
          "base_uri": "https://localhost:8080/"
        },
        "id": "q9KYsNRX3DS9",
        "outputId": "ac38b30f-80ed-4dd6-f29a-bdce54d6d49b"
      },
      "outputs": [
        {
          "output_type": "stream",
          "name": "stdout",
          "text": [
            "1.25.2\n"
          ]
        }
      ],
      "source": [
        "#Importing Numpy library  from python and checking its version\n",
        "import numpy as np\n",
        "print(np.__version__)"
      ]
    },
    {
      "cell_type": "code",
      "source": [
        "#Creating 1D array with its type , data type, dimension\n",
        "arr=np.array([1,2,3,4,5,6])\n",
        "print(arr)\n",
        "print(type(arr))\n",
        "print(arr.dtype)\n",
        "arr.ndim"
      ],
      "metadata": {
        "colab": {
          "base_uri": "https://localhost:8080/"
        },
        "id": "d4BfxaGA4e-f",
        "outputId": "df7b9512-adcb-40ca-ffc7-100952424f1b"
      },
      "execution_count": null,
      "outputs": [
        {
          "output_type": "stream",
          "name": "stdout",
          "text": [
            "[1 2 3 4 5 6]\n",
            "<class 'numpy.ndarray'>\n",
            "int64\n"
          ]
        },
        {
          "output_type": "execute_result",
          "data": {
            "text/plain": [
              "1"
            ]
          },
          "metadata": {},
          "execution_count": 4
        }
      ]
    },
    {
      "cell_type": "code",
      "source": [
        "#Creating 2D array with its type , data type, dimension,shape\n",
        "arr2d=np.array([[1,2],[3,4],[5,6]])\n",
        "print(arr2d)\n",
        "print(type(arr2d))\n",
        "arr2d.ndim\n",
        "print(arr2d.dtype)\n",
        "print(arr2d.shape)\n"
      ],
      "metadata": {
        "colab": {
          "base_uri": "https://localhost:8080/"
        },
        "id": "VXe10OwZPS7e",
        "outputId": "70630c99-fbd5-4c00-ab66-96e50a974532"
      },
      "execution_count": null,
      "outputs": [
        {
          "output_type": "stream",
          "name": "stdout",
          "text": [
            "[[1 2]\n",
            " [3 4]\n",
            " [5 6]]\n",
            "<class 'numpy.ndarray'>\n",
            "int64\n",
            "(3, 2)\n"
          ]
        }
      ]
    },
    {
      "cell_type": "code",
      "source": [
        "arr2dnew=arr2d.reshape(2,3,1)"
      ],
      "metadata": {
        "id": "yE1q82hXtR2p"
      },
      "execution_count": null,
      "outputs": []
    },
    {
      "cell_type": "code",
      "source": [
        "print(arr2dnew)"
      ],
      "metadata": {
        "colab": {
          "base_uri": "https://localhost:8080/"
        },
        "id": "0sQVLuSFtj6m",
        "outputId": "26aafb7f-4525-4205-e56d-adce84281937"
      },
      "execution_count": null,
      "outputs": [
        {
          "output_type": "stream",
          "name": "stdout",
          "text": [
            "[[[1]\n",
            "  [2]\n",
            "  [3]]\n",
            "\n",
            " [[4]\n",
            "  [5]\n",
            "  [6]]]\n"
          ]
        }
      ]
    },
    {
      "cell_type": "code",
      "source": [
        "#Creating 3D array with its type , data type, dimension,shape\n",
        "arr3d=np.array([    [[1,2],[3,4]] , [[4,5],[6,7]] ,  [[8,9],[10,11]]        ])\n",
        "print(arr3d)\n",
        "print(type(arr3d))\n",
        "print(arr3d.ndim)\n",
        "print(arr3d.shape)\n",
        "print(arr3d.dtype)\n",
        "#Indexing\n",
        "print(arr3d[0,1,0])\n"
      ],
      "metadata": {
        "id": "dDGkW99uaTCj"
      },
      "execution_count": null,
      "outputs": []
    },
    {
      "cell_type": "code",
      "source": [
        "#Indexing type 2\n",
        "#start,stop,step\n",
        "print(arr3d[1:5:1])"
      ],
      "metadata": {
        "id": "mM_HviFvgPVZ"
      },
      "execution_count": null,
      "outputs": []
    },
    {
      "cell_type": "code",
      "source": [
        "#Indexing type 3\n",
        "#start list no: end list no , element : element\n",
        "print(arr3d[0:1,1])"
      ],
      "metadata": {
        "colab": {
          "base_uri": "https://localhost:8080/"
        },
        "id": "mtSIY4Anhn3o",
        "outputId": "2edce6cf-43ba-4b88-b296-716713b4b87e"
      },
      "execution_count": null,
      "outputs": [
        {
          "output_type": "stream",
          "name": "stdout",
          "text": [
            "[[3 4]]\n"
          ]
        }
      ]
    },
    {
      "cell_type": "code",
      "source": [
        "#Reshape 3d array to 2d array\n",
        "print(arr3d.reshape(2,6))"
      ],
      "metadata": {
        "colab": {
          "base_uri": "https://localhost:8080/"
        },
        "id": "3WpXxzC9cyO2",
        "outputId": "93b3a20d-259b-4431-ddd5-a6a2626457da"
      },
      "execution_count": null,
      "outputs": [
        {
          "output_type": "stream",
          "name": "stdout",
          "text": [
            "[[ 1  2  3  4  4  5]\n",
            " [ 6  7  8  9 10 11]]\n"
          ]
        }
      ]
    },
    {
      "cell_type": "code",
      "source": [
        "#Using For Loop\n",
        "for x in arr3d:\n",
        " for y in x:\n",
        "  for z in y:\n",
        "   print(z)\n"
      ],
      "metadata": {
        "colab": {
          "base_uri": "https://localhost:8080/"
        },
        "id": "L3GxC8nynQuK",
        "outputId": "7e36cdcb-182c-40ec-bfe6-d0e6c8205973"
      },
      "execution_count": null,
      "outputs": [
        {
          "output_type": "stream",
          "name": "stdout",
          "text": [
            "1\n",
            "2\n",
            "3\n",
            "4\n",
            "4\n",
            "5\n",
            "6\n",
            "7\n",
            "8\n",
            "9\n",
            "10\n",
            "11\n"
          ]
        }
      ]
    },
    {
      "cell_type": "code",
      "source": [
        "#Concatenation\n",
        "arr1=np.array([[[1,2],[3,4]]])\n",
        "arr2=np.array([[[5,6],[7,8]]])\n",
        "r=np.concatenate((arr1,arr2),axis=0)\n",
        "print(r)\n"
      ],
      "metadata": {
        "colab": {
          "base_uri": "https://localhost:8080/"
        },
        "id": "s_yH4eZbpj6y",
        "outputId": "4c467e13-d6e0-4c6d-b0ec-b6c8dfd0622c"
      },
      "execution_count": 6,
      "outputs": [
        {
          "output_type": "stream",
          "name": "stdout",
          "text": [
            "[[[1 2]\n",
            "  [3 4]]\n",
            "\n",
            " [[5 6]\n",
            "  [7 8]]]\n"
          ]
        }
      ]
    },
    {
      "cell_type": "code",
      "source": [
        "#Concatenation\n",
        "arr1=np.array([[[1,2],[3,4]]])\n",
        "arr2=np.array([[[5,6],[7,8]]])\n",
        "r=np.concatenate((arr1,arr2),axis=1)\n",
        "print(r)\n"
      ],
      "metadata": {
        "colab": {
          "base_uri": "https://localhost:8080/"
        },
        "id": "y6GuIfKZaliD",
        "outputId": "85e86eab-6889-4252-ea22-d1536762a61b"
      },
      "execution_count": 14,
      "outputs": [
        {
          "output_type": "stream",
          "name": "stdout",
          "text": [
            "[[[1 2]\n",
            "  [3 4]\n",
            "  [5 6]\n",
            "  [7 8]]]\n"
          ]
        }
      ]
    },
    {
      "cell_type": "code",
      "source": [
        "#Transpose- Convert row to column and vice-versa\n",
        "arrbt=np.array([[[1,2],[3,4],[5,6]]])\n",
        "arrat=arrbt.transpose()\n",
        "print('array before transpose:' , arrbt)\n",
        "print('array after transpose:', arrat)"
      ],
      "metadata": {
        "colab": {
          "base_uri": "https://localhost:8080/"
        },
        "id": "8NIu-Q1Zws_5",
        "outputId": "2d019ebe-7b34-4aa9-d0e0-5b605043fe0c"
      },
      "execution_count": 13,
      "outputs": [
        {
          "output_type": "stream",
          "name": "stdout",
          "text": [
            "array before transpose: [[[1 2]\n",
            "  [3 4]\n",
            "  [5 6]]]\n",
            "array after transpose: [[[1]\n",
            "  [3]\n",
            "  [5]]\n",
            "\n",
            " [[2]\n",
            "  [4]\n",
            "  [6]]]\n"
          ]
        }
      ]
    },
    {
      "cell_type": "code",
      "source": [
        "#axis=1 , vertical , axis=0 ,horizontal , axis=1\n",
        "arr1=np.array([1,2,3,4])\n",
        "arr2=np.array([5,6,7,8])\n",
        "arrnew=np.vstack([arr1,arr2])\n",
        "print(arrnew)\n",
        "arrnew1=np.hstack([arr1,arr2])\n",
        "print(arrnew1)"
      ],
      "metadata": {
        "colab": {
          "base_uri": "https://localhost:8080/"
        },
        "id": "ILaiaLf1d7fO",
        "outputId": "9d76f8a9-c5d0-44cf-9306-9f214c1f79b6"
      },
      "execution_count": 7,
      "outputs": [
        {
          "output_type": "stream",
          "name": "stdout",
          "text": [
            "[[1 2 3 4]\n",
            " [5 6 7 8]]\n",
            "[1 2 3 4 5 6 7 8]\n"
          ]
        }
      ]
    },
    {
      "cell_type": "code",
      "source": [
        "arrsplit=np.a"
      ],
      "metadata": {
        "id": "_hGS77rtNuK_"
      },
      "execution_count": null,
      "outputs": []
    },
    {
      "cell_type": "code",
      "source": [
        "#Arange Function(start,stop,step)\n",
        "arr=np.arange(10)\n",
        "print(arr)"
      ],
      "metadata": {
        "colab": {
          "base_uri": "https://localhost:8080/"
        },
        "id": "2rTPNZVahc4F",
        "outputId": "c1fa1637-8a7d-4e9e-faa0-f3f0c24b8bdc"
      },
      "execution_count": 11,
      "outputs": [
        {
          "output_type": "stream",
          "name": "stdout",
          "text": [
            "[0 1 2 3 4 5 6 7 8 9]\n"
          ]
        }
      ]
    },
    {
      "cell_type": "code",
      "source": [
        "#Split Function\n",
        "arrsplit=np.split(arr,2)\n",
        "print(arrsplit)"
      ],
      "metadata": {
        "colab": {
          "base_uri": "https://localhost:8080/"
        },
        "id": "17kvkm9kkhMj",
        "outputId": "d00ff774-f852-4434-ea92-3e7f757d708a"
      },
      "execution_count": 14,
      "outputs": [
        {
          "output_type": "stream",
          "name": "stdout",
          "text": [
            "[array([0, 1, 2, 3, 4]), array([5, 6, 7, 8, 9])]\n"
          ]
        }
      ]
    },
    {
      "cell_type": "code",
      "source": [
        "#Where Function\n",
        "np.where(arr > 2)"
      ],
      "metadata": {
        "colab": {
          "base_uri": "https://localhost:8080/"
        },
        "id": "Xm6Gr0_JnLlT",
        "outputId": "cc8a1db5-d5df-4cb5-dc84-3963a6e4670d"
      },
      "execution_count": 18,
      "outputs": [
        {
          "output_type": "execute_result",
          "data": {
            "text/plain": [
              "(array([3, 4, 5, 6, 7, 8, 9]),)"
            ]
          },
          "metadata": {},
          "execution_count": 18
        }
      ]
    },
    {
      "cell_type": "code",
      "source": [
        "#Conversion of data type using astype method\n",
        "arr=np.array([1,2,3,4,5])\n",
        "print(arr.dtype)\n",
        "arr1=arr.astype(bool)\n",
        "print(arr1.dtype)"
      ],
      "metadata": {
        "colab": {
          "base_uri": "https://localhost:8080/"
        },
        "id": "GEMKDzjfoS_r",
        "outputId": "de0b4912-c3a3-42d7-9896-a5bc028b30e5"
      },
      "execution_count": 21,
      "outputs": [
        {
          "output_type": "stream",
          "name": "stdout",
          "text": [
            "int64\n",
            "bool\n"
          ]
        }
      ]
    },
    {
      "cell_type": "code",
      "source": [
        "r=np.random.randint(1,2)\n",
        "print(r)"
      ],
      "metadata": {
        "colab": {
          "base_uri": "https://localhost:8080/"
        },
        "id": "EudHUUJJpQce",
        "outputId": "be05ba12-4e54-419c-fa30-d943577cd685"
      },
      "execution_count": 25,
      "outputs": [
        {
          "output_type": "stream",
          "name": "stdout",
          "text": [
            "1\n"
          ]
        }
      ]
    },
    {
      "cell_type": "code",
      "source": [
        "#addition\n",
        "p=np.array([1,2,3])\n",
        "q=np.array([4,5,6])\n",
        "r=np.add(p,q)\n",
        "print(r)"
      ],
      "metadata": {
        "colab": {
          "base_uri": "https://localhost:8080/"
        },
        "id": "RzW6ppGVrP5G",
        "outputId": "c2d4865c-ec93-48f9-af62-ec97b3297f0e"
      },
      "execution_count": 27,
      "outputs": [
        {
          "output_type": "stream",
          "name": "stdout",
          "text": [
            "[5 7 9]\n"
          ]
        }
      ]
    },
    {
      "cell_type": "code",
      "source": [
        "#substraction\n",
        "p=np.array([1,2,3])\n",
        "q=np.array([4,5,6])\n",
        "r=np.subtract(p,q)\n",
        "print(r)"
      ],
      "metadata": {
        "colab": {
          "base_uri": "https://localhost:8080/"
        },
        "id": "LPwKVSgzri49",
        "outputId": "9941cf8d-b8eb-42b0-94ea-632e1433176e"
      },
      "execution_count": 30,
      "outputs": [
        {
          "output_type": "stream",
          "name": "stdout",
          "text": [
            "[-3 -3 -3]\n"
          ]
        }
      ]
    },
    {
      "cell_type": "code",
      "source": [
        "#multiplication\n",
        "p=np.array([1,2,3])\n",
        "q=np.array([4,5,6])\n",
        "r=np.dot(p,q)\n",
        "print(r)"
      ],
      "metadata": {
        "colab": {
          "base_uri": "https://localhost:8080/"
        },
        "id": "b7yktDqlr7Of",
        "outputId": "c68dbd45-21ab-4ff8-f7f4-1a5794ba82eb"
      },
      "execution_count": 31,
      "outputs": [
        {
          "output_type": "stream",
          "name": "stdout",
          "text": [
            "32\n"
          ]
        }
      ]
    },
    {
      "cell_type": "markdown",
      "source": [
        "RANDOM\n",
        "RANDINT(LOW,HIGH=NONE,SIZE,DTYPE)\n"
      ],
      "metadata": {
        "id": "hZ3FhqFovG3y"
      }
    },
    {
      "cell_type": "code",
      "source": [
        "import random\n",
        "x=random.randint(2,10)\n",
        "print(x)\n",
        "x=np.random.choice([1,2,3,4,5,6],p=(0.1,0.2,0.4,0.1,0.1,0.1),size=(1,1))\n",
        "print(x)"
      ],
      "metadata": {
        "colab": {
          "base_uri": "https://localhost:8080/"
        },
        "id": "M5AjiMTxvm6p",
        "outputId": "9e1d0d2e-8476-4b9f-9771-2d1bc8eac1c4"
      },
      "execution_count": 54,
      "outputs": [
        {
          "output_type": "stream",
          "name": "stdout",
          "text": [
            "6\n",
            "[[4]]\n"
          ]
        }
      ]
    },
    {
      "cell_type": "markdown",
      "source": [
        "The random.normal() function in Python generates random numbers from a normal distribution with a specified mean and standard deviation. The syntax of the function is as follows:\n",
        "\n",
        "\n",
        "random.normal(loc=0.0, scale=1.0, size=None)\n",
        "\n",
        "loc: The mean of the normal distribution. Default is 0.0.\n",
        "scale: The standard deviation of the normal distribution. Default is 1.0.\n",
        "size: The shape of the output array. Default is None, which generates a single random number.\n",
        "Here's an example of how to use the random.normal() function:\n",
        "\n",
        "\n",
        "import random\n",
        "\n",
        "# Generate 10 random numbers from a normal distribution with mean 5 and standard deviation 2\n",
        "### random_numbers = random.normal(loc=5, scale=2, size=10)"
      ],
      "metadata": {
        "id": "24fuj-VLysA9"
      }
    },
    {
      "cell_type": "code",
      "source": [
        "random_numbers = np.random.normal(loc=5, scale=2, size=10)\n",
        "print(random_numbers)"
      ],
      "metadata": {
        "colab": {
          "base_uri": "https://localhost:8080/"
        },
        "id": "MjTtOZqDzHHu",
        "outputId": "1672c4b5-85cc-4f8a-833a-34788014909d"
      },
      "execution_count": 57,
      "outputs": [
        {
          "output_type": "stream",
          "name": "stdout",
          "text": [
            "[8.49764112 4.84645315 6.33751625 5.95479057 5.32496238 5.36780095\n",
            " 3.89173217 5.92926319 6.4689038  7.69666088]\n"
          ]
        }
      ]
    },
    {
      "cell_type": "code",
      "source": [
        "x='end of numpy'\n",
        "print(x)\n"
      ],
      "metadata": {
        "colab": {
          "base_uri": "https://localhost:8080/"
        },
        "id": "4KkcwSypzBAJ",
        "outputId": "80cef631-9572-4943-bfdc-9a6357d5045f"
      },
      "execution_count": 59,
      "outputs": [
        {
          "output_type": "stream",
          "name": "stdout",
          "text": [
            "end of numpy\n"
          ]
        }
      ]
    },
    {
      "cell_type": "code",
      "source": [],
      "metadata": {
        "id": "PCnS9IpXyyaB"
      },
      "execution_count": null,
      "outputs": []
    }
  ]
}